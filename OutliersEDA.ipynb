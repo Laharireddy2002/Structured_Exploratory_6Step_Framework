{
 "cells": [
  {
   "cell_type": "markdown",
   "id": "8c9fcd84-fe43-47e9-b10b-7afe0f13d113",
   "metadata": {},
   "source": [
    "# Outliers in EDA"
   ]
  },
  {
   "cell_type": "markdown",
   "id": "9a21deaa-8016-4265-9a36-7b178a95aab3",
   "metadata": {},
   "source": [
    "## Imports\n"
   ]
  },
  {
   "cell_type": "code",
   "execution_count": 38,
   "id": "e813fd35-67fc-4b53-9fdd-422763c921b7",
   "metadata": {},
   "outputs": [],
   "source": [
    "import matplotlib.pyplot as plt\n",
    "import pandas as pd\n",
    "import numpy as np\n",
    "import datetime as dt\n",
    "import seaborn as sns"
   ]
  },
  {
   "cell_type": "code",
   "execution_count": 25,
   "id": "827958de-fe86-412c-8191-a120b244be14",
   "metadata": {},
   "outputs": [],
   "source": [
    "# reading the csv\n",
    "df = pd.read_csv(r\"C:\\Users\\Lahari Reddy\\Desktop\\GoogleDA\\Exploratory_Data_Analysis\\eda_outliers_dataset1.csv\")"
   ]
  },
  {
   "cell_type": "code",
   "execution_count": 26,
   "id": "10bfe71e-5e82-492e-ba7b-77a65f0e0fff",
   "metadata": {},
   "outputs": [
    {
     "data": {
      "text/html": [
       "<div>\n",
       "<style scoped>\n",
       "    .dataframe tbody tr th:only-of-type {\n",
       "        vertical-align: middle;\n",
       "    }\n",
       "\n",
       "    .dataframe tbody tr th {\n",
       "        vertical-align: top;\n",
       "    }\n",
       "\n",
       "    .dataframe thead th {\n",
       "        text-align: right;\n",
       "    }\n",
       "</style>\n",
       "<table border=\"1\" class=\"dataframe\">\n",
       "  <thead>\n",
       "    <tr style=\"text-align: right;\">\n",
       "      <th></th>\n",
       "      <th>year</th>\n",
       "      <th>number_of_strikes</th>\n",
       "    </tr>\n",
       "  </thead>\n",
       "  <tbody>\n",
       "    <tr>\n",
       "      <th>0</th>\n",
       "      <td>2020</td>\n",
       "      <td>15620068</td>\n",
       "    </tr>\n",
       "    <tr>\n",
       "      <th>1</th>\n",
       "      <td>2019</td>\n",
       "      <td>209166</td>\n",
       "    </tr>\n",
       "    <tr>\n",
       "      <th>2</th>\n",
       "      <td>2018</td>\n",
       "      <td>44600989</td>\n",
       "    </tr>\n",
       "    <tr>\n",
       "      <th>3</th>\n",
       "      <td>2017</td>\n",
       "      <td>35095195</td>\n",
       "    </tr>\n",
       "    <tr>\n",
       "      <th>4</th>\n",
       "      <td>2016</td>\n",
       "      <td>41582229</td>\n",
       "    </tr>\n",
       "    <tr>\n",
       "      <th>5</th>\n",
       "      <td>2015</td>\n",
       "      <td>37894191</td>\n",
       "    </tr>\n",
       "    <tr>\n",
       "      <th>6</th>\n",
       "      <td>2014</td>\n",
       "      <td>34919173</td>\n",
       "    </tr>\n",
       "    <tr>\n",
       "      <th>7</th>\n",
       "      <td>2013</td>\n",
       "      <td>27600898</td>\n",
       "    </tr>\n",
       "    <tr>\n",
       "      <th>8</th>\n",
       "      <td>2012</td>\n",
       "      <td>28807552</td>\n",
       "    </tr>\n",
       "    <tr>\n",
       "      <th>9</th>\n",
       "      <td>2011</td>\n",
       "      <td>31392058</td>\n",
       "    </tr>\n",
       "  </tbody>\n",
       "</table>\n",
       "</div>"
      ],
      "text/plain": [
       "   year  number_of_strikes\n",
       "0  2020           15620068\n",
       "1  2019             209166\n",
       "2  2018           44600989\n",
       "3  2017           35095195\n",
       "4  2016           41582229\n",
       "5  2015           37894191\n",
       "6  2014           34919173\n",
       "7  2013           27600898\n",
       "8  2012           28807552\n",
       "9  2011           31392058"
      ]
     },
     "execution_count": 26,
     "metadata": {},
     "output_type": "execute_result"
    }
   ],
   "source": [
    "#printing first 10 rows\n",
    "df.head(10)"
   ]
  },
  {
   "cell_type": "code",
   "execution_count": 27,
   "id": "9091f4aa-4a27-4202-b8eb-433e368d41f7",
   "metadata": {},
   "outputs": [],
   "source": [
    "def readable_numbers(x):\n",
    "    \"\"\"takes a large number and formats it into K,M to make it more readable\"\"\"\n",
    "    if x >= 1e6:\n",
    "        s = '{:1.1f}M'.format(x*1e-6)\n",
    "    else:\n",
    "        s = '{:1.0f}K'.format(x*1e-3)\n",
    "    return s\n",
    "\n",
    "# Use the readable_numbers() function to create a new column \n",
    "df['number_of_strikes_readable']=df['number_of_strikes'].apply(readable_numbers)"
   ]
  },
  {
   "cell_type": "code",
   "execution_count": 28,
   "id": "e6eb0c76-c459-4635-bb42-ce1ca9fe411e",
   "metadata": {},
   "outputs": [
    {
     "data": {
      "text/html": [
       "<div>\n",
       "<style scoped>\n",
       "    .dataframe tbody tr th:only-of-type {\n",
       "        vertical-align: middle;\n",
       "    }\n",
       "\n",
       "    .dataframe tbody tr th {\n",
       "        vertical-align: top;\n",
       "    }\n",
       "\n",
       "    .dataframe thead th {\n",
       "        text-align: right;\n",
       "    }\n",
       "</style>\n",
       "<table border=\"1\" class=\"dataframe\">\n",
       "  <thead>\n",
       "    <tr style=\"text-align: right;\">\n",
       "      <th></th>\n",
       "      <th>year</th>\n",
       "      <th>number_of_strikes</th>\n",
       "      <th>number_of_strikes_readable</th>\n",
       "    </tr>\n",
       "  </thead>\n",
       "  <tbody>\n",
       "    <tr>\n",
       "      <th>0</th>\n",
       "      <td>2020</td>\n",
       "      <td>15620068</td>\n",
       "      <td>15.6M</td>\n",
       "    </tr>\n",
       "    <tr>\n",
       "      <th>1</th>\n",
       "      <td>2019</td>\n",
       "      <td>209166</td>\n",
       "      <td>209K</td>\n",
       "    </tr>\n",
       "    <tr>\n",
       "      <th>2</th>\n",
       "      <td>2018</td>\n",
       "      <td>44600989</td>\n",
       "      <td>44.6M</td>\n",
       "    </tr>\n",
       "    <tr>\n",
       "      <th>3</th>\n",
       "      <td>2017</td>\n",
       "      <td>35095195</td>\n",
       "      <td>35.1M</td>\n",
       "    </tr>\n",
       "    <tr>\n",
       "      <th>4</th>\n",
       "      <td>2016</td>\n",
       "      <td>41582229</td>\n",
       "      <td>41.6M</td>\n",
       "    </tr>\n",
       "    <tr>\n",
       "      <th>5</th>\n",
       "      <td>2015</td>\n",
       "      <td>37894191</td>\n",
       "      <td>37.9M</td>\n",
       "    </tr>\n",
       "    <tr>\n",
       "      <th>6</th>\n",
       "      <td>2014</td>\n",
       "      <td>34919173</td>\n",
       "      <td>34.9M</td>\n",
       "    </tr>\n",
       "    <tr>\n",
       "      <th>7</th>\n",
       "      <td>2013</td>\n",
       "      <td>27600898</td>\n",
       "      <td>27.6M</td>\n",
       "    </tr>\n",
       "    <tr>\n",
       "      <th>8</th>\n",
       "      <td>2012</td>\n",
       "      <td>28807552</td>\n",
       "      <td>28.8M</td>\n",
       "    </tr>\n",
       "    <tr>\n",
       "      <th>9</th>\n",
       "      <td>2011</td>\n",
       "      <td>31392058</td>\n",
       "      <td>31.4M</td>\n",
       "    </tr>\n",
       "  </tbody>\n",
       "</table>\n",
       "</div>"
      ],
      "text/plain": [
       "   year  number_of_strikes number_of_strikes_readable\n",
       "0  2020           15620068                      15.6M\n",
       "1  2019             209166                       209K\n",
       "2  2018           44600989                      44.6M\n",
       "3  2017           35095195                      35.1M\n",
       "4  2016           41582229                      41.6M\n",
       "5  2015           37894191                      37.9M\n",
       "6  2014           34919173                      34.9M\n",
       "7  2013           27600898                      27.6M\n",
       "8  2012           28807552                      28.8M\n",
       "9  2011           31392058                      31.4M"
      ]
     },
     "execution_count": 28,
     "metadata": {},
     "output_type": "execute_result"
    }
   ],
   "source": [
    "df.head(10)"
   ]
  },
  {
   "cell_type": "code",
   "execution_count": 29,
   "id": "11bb2341-bb89-4a13-991b-cb71c91e3b2c",
   "metadata": {},
   "outputs": [
    {
     "name": "stdout",
     "output_type": "stream",
     "text": [
      "Mean:26.8M\n",
      "Median:28.3M\n"
     ]
    }
   ],
   "source": [
    "print(\"Mean:\" + readable_numbers(np.mean(df['number_of_strikes'])))\n",
    "print(\"Median:\" + readable_numbers(np.median(df['number_of_strikes'])))"
   ]
  },
  {
   "cell_type": "code",
   "execution_count": 30,
   "id": "209dd2eb-a371-43d0-8efe-2f38d46a33be",
   "metadata": {},
   "outputs": [
    {
     "data": {
      "image/png": "[encoded data removed]",
      "text/plain": [
       "<Figure size 640x480 with 1 Axes>"
      ]
     },
     "metadata": {},
     "output_type": "display_data"
    }
   ],
   "source": [
    "# Create boxplot\n",
    "box = sns.boxplot(x=df['number_of_strikes'])\n",
    "ticks = g.get_xticks()\n",
    "box.set_xticks(ticks) \n",
    "g = plt.gca()\n",
    "box.set_xticklabels(np.array([readable_numbers(x) for x in g.get_xticks()]))\n",
    "plt.xlabel('Number of strikes')\n",
    "plt.title('Yearly number of lightning strikes');"
   ]
  },
  {
   "cell_type": "code",
   "execution_count": 31,
   "id": "3bf39b98-1927-4f60-a39a-11f96416c7dc",
   "metadata": {},
   "outputs": [
    {
     "name": "stdout",
     "output_type": "stream",
     "text": [
      "Lower limit is: 8.6M\n"
     ]
    }
   ],
   "source": [
    "# Calculate 25th percentile of annual strikes\n",
    "percentile25 = df['number_of_strikes'].quantile(0.25)\n",
    "\n",
    "# Calculate 75th percentile of annual strikes\n",
    "percentile75 = df['number_of_strikes'].quantile(0.75)\n",
    "\n",
    "# Calculate interquartile range\n",
    "iqr = percentile75 - percentile25\n",
    "\n",
    "# Calculate upper and lower thresholds for outliers\n",
    "upper_limit = percentile75 + 1.5 * iqr\n",
    "lower_limit = percentile25 - 1.5 * iqr\n",
    "\n",
    "print('Lower limit is: '+ readable_numbers(lower_limit))"
   ]
  },
  {
   "cell_type": "code",
   "execution_count": 32,
   "id": "f1ae7422-236e-4efa-83a9-e541ff302284",
   "metadata": {},
   "outputs": [
    {
     "data": {
      "text/html": [
       "<div>\n",
       "<style scoped>\n",
       "    .dataframe tbody tr th:only-of-type {\n",
       "        vertical-align: middle;\n",
       "    }\n",
       "\n",
       "    .dataframe tbody tr th {\n",
       "        vertical-align: top;\n",
       "    }\n",
       "\n",
       "    .dataframe thead th {\n",
       "        text-align: right;\n",
       "    }\n",
       "</style>\n",
       "<table border=\"1\" class=\"dataframe\">\n",
       "  <thead>\n",
       "    <tr style=\"text-align: right;\">\n",
       "      <th></th>\n",
       "      <th>year</th>\n",
       "      <th>number_of_strikes</th>\n",
       "      <th>number_of_strikes_readable</th>\n",
       "    </tr>\n",
       "  </thead>\n",
       "  <tbody>\n",
       "    <tr>\n",
       "      <th>1</th>\n",
       "      <td>2019</td>\n",
       "      <td>209166</td>\n",
       "      <td>209K</td>\n",
       "    </tr>\n",
       "    <tr>\n",
       "      <th>33</th>\n",
       "      <td>1987</td>\n",
       "      <td>7378836</td>\n",
       "      <td>7.4M</td>\n",
       "    </tr>\n",
       "  </tbody>\n",
       "</table>\n",
       "</div>"
      ],
      "text/plain": [
       "    year  number_of_strikes number_of_strikes_readable\n",
       "1   2019             209166                       209K\n",
       "33  1987            7378836                       7.4M"
      ]
     },
     "execution_count": 32,
     "metadata": {},
     "output_type": "execute_result"
    }
   ],
   "source": [
    "# Isolate outliers on low end\n",
    "df[df['number_of_strikes'] < lower_limit]"
   ]
  },
  {
   "cell_type": "code",
   "execution_count": 33,
   "id": "007ef32c-ad67-4c7b-9a66-0a7c5ab2f764",
   "metadata": {},
   "outputs": [
    {
     "data": {
      "image/png": "[encoded data removed]",
      "text/plain": [
       "<Figure size 1600x800 with 1 Axes>"
      ]
     },
     "metadata": {},
     "output_type": "display_data"
    }
   ],
   "source": [
    "def addlabels(x,y):\n",
    "    for i in range(len(x)):\n",
    "        plt.text(x[i]-0.5, y[i]+500000, s=readable_numbers(y[i]))\n",
    "\n",
    "colors = np.where(df['number_of_strikes'] < lower_limit, 'r', 'b')\n",
    "\n",
    "fig, ax = plt.subplots(figsize=(16,8))\n",
    "ax.scatter(df['year'], df['number_of_strikes'],c=colors)\n",
    "ax.set_xlabel('Year')\n",
    "ax.set_ylabel('Number of strikes')\n",
    "ax.set_title('Number of lightning strikes by year')\n",
    "addlabels(df['year'], df['number_of_strikes'])\n",
    "for tick in ax.get_xticklabels():\n",
    "    tick.set_rotation(45)\n",
    "plt.show()"
   ]
  },
  {
   "cell_type": "code",
   "execution_count": 34,
   "id": "a77966f0-4e7f-4cb8-9a6c-78dc194dee89",
   "metadata": {},
   "outputs": [
    {
     "data": {
      "image/png": "[encoded data removed]",
      "text/plain": [
       "<Figure size 1600x800 with 1 Axes>"
      ]
     },
     "metadata": {},
     "output_type": "display_data"
    }
   ],
   "source": [
    "\n",
    "# Determine bar colors based on a threshold\n",
    "colors = np.where(df['number_of_strikes'] < lower_limit, 'red', 'blue')\n",
    "\n",
    "# Create the figure and axes\n",
    "fig, ax = plt.subplots(figsize=(16, 8))\n",
    "\n",
    "# Create a bar plot\n",
    "bars = ax.bar(df['year'], df['number_of_strikes'], color=colors)\n",
    "\n",
    "# Add value labels on top of each bar\n",
    "for bar in bars:\n",
    "    yval = bar.get_height()\n",
    "    ax.text(bar.get_x() + bar.get_width()/2 - 0.5, yval + 500000, readable_numbers(yval), fontsize=9)\n",
    "\n",
    "# Customize axes and labels\n",
    "ax.set_xlabel('Year')\n",
    "ax.set_ylabel('Number of Strikes')\n",
    "ax.set_title('Number of Lightning Strikes by Year')\n",
    "plt.xticks(rotation=45)\n",
    "plt.tight_layout()\n",
    "plt.show()"
   ]
  },
  {
   "cell_type": "markdown",
   "id": "00153043-4f39-4182-970d-bf248564d0cb",
   "metadata": {},
   "source": [
    "### Investigating the outliers 2019 and 1987"
   ]
  },
  {
   "cell_type": "code",
   "execution_count": 39,
   "id": "483a15da-15ae-429b-b248-4a3875e9decf",
   "metadata": {},
   "outputs": [],
   "source": [
    "df_2019 = pd.read_csv(r\"C:\\Users\\Lahari Reddy\\Desktop\\GoogleDA\\Exploratory_Data_Analysis\\eda_outliers_dataset2.csv\")"
   ]
  },
  {
   "cell_type": "code",
   "execution_count": 40,
   "id": "f236751d-c3bb-454c-93c8-1afb6fe03df5",
   "metadata": {},
   "outputs": [
    {
     "data": {
      "text/html": [
       "<div>\n",
       "<style scoped>\n",
       "    .dataframe tbody tr th:only-of-type {\n",
       "        vertical-align: middle;\n",
       "    }\n",
       "\n",
       "    .dataframe tbody tr th {\n",
       "        vertical-align: top;\n",
       "    }\n",
       "\n",
       "    .dataframe thead th {\n",
       "        text-align: right;\n",
       "    }\n",
       "</style>\n",
       "<table border=\"1\" class=\"dataframe\">\n",
       "  <thead>\n",
       "    <tr style=\"text-align: right;\">\n",
       "      <th></th>\n",
       "      <th>date</th>\n",
       "      <th>number_of_strikes</th>\n",
       "      <th>center_point_geom</th>\n",
       "    </tr>\n",
       "  </thead>\n",
       "  <tbody>\n",
       "    <tr>\n",
       "      <th>0</th>\n",
       "      <td>2019-12-01</td>\n",
       "      <td>1</td>\n",
       "      <td>POINT(-79.7 35.3)</td>\n",
       "    </tr>\n",
       "    <tr>\n",
       "      <th>1</th>\n",
       "      <td>2019-12-01</td>\n",
       "      <td>1</td>\n",
       "      <td>POINT(-84.7 39.3)</td>\n",
       "    </tr>\n",
       "    <tr>\n",
       "      <th>2</th>\n",
       "      <td>2019-12-01</td>\n",
       "      <td>1</td>\n",
       "      <td>POINT(-83.4 38.9)</td>\n",
       "    </tr>\n",
       "    <tr>\n",
       "      <th>3</th>\n",
       "      <td>2019-12-01</td>\n",
       "      <td>1</td>\n",
       "      <td>POINT(-71.5 35.2)</td>\n",
       "    </tr>\n",
       "    <tr>\n",
       "      <th>4</th>\n",
       "      <td>2019-12-01</td>\n",
       "      <td>1</td>\n",
       "      <td>POINT(-87.8 41.6)</td>\n",
       "    </tr>\n",
       "    <tr>\n",
       "      <th>5</th>\n",
       "      <td>2019-12-01</td>\n",
       "      <td>1</td>\n",
       "      <td>POINT(-85.4 36.8)</td>\n",
       "    </tr>\n",
       "    <tr>\n",
       "      <th>6</th>\n",
       "      <td>2019-12-01</td>\n",
       "      <td>1</td>\n",
       "      <td>POINT(-84 40.9)</td>\n",
       "    </tr>\n",
       "    <tr>\n",
       "      <th>7</th>\n",
       "      <td>2019-12-01</td>\n",
       "      <td>1</td>\n",
       "      <td>POINT(-54.7 40.9)</td>\n",
       "    </tr>\n",
       "    <tr>\n",
       "      <th>8</th>\n",
       "      <td>2019-12-01</td>\n",
       "      <td>1</td>\n",
       "      <td>POINT(-82.3 35.7)</td>\n",
       "    </tr>\n",
       "    <tr>\n",
       "      <th>9</th>\n",
       "      <td>2019-12-01</td>\n",
       "      <td>1</td>\n",
       "      <td>POINT(-55.7 40.7)</td>\n",
       "    </tr>\n",
       "  </tbody>\n",
       "</table>\n",
       "</div>"
      ],
      "text/plain": [
       "         date  number_of_strikes  center_point_geom\n",
       "0  2019-12-01                  1  POINT(-79.7 35.3)\n",
       "1  2019-12-01                  1  POINT(-84.7 39.3)\n",
       "2  2019-12-01                  1  POINT(-83.4 38.9)\n",
       "3  2019-12-01                  1  POINT(-71.5 35.2)\n",
       "4  2019-12-01                  1  POINT(-87.8 41.6)\n",
       "5  2019-12-01                  1  POINT(-85.4 36.8)\n",
       "6  2019-12-01                  1    POINT(-84 40.9)\n",
       "7  2019-12-01                  1  POINT(-54.7 40.9)\n",
       "8  2019-12-01                  1  POINT(-82.3 35.7)\n",
       "9  2019-12-01                  1  POINT(-55.7 40.7)"
      ]
     },
     "execution_count": 40,
     "metadata": {},
     "output_type": "execute_result"
    }
   ],
   "source": [
    "df_2019.head(10)"
   ]
  },
  {
   "cell_type": "code",
   "execution_count": 43,
   "id": "334d7474-5eb6-401d-8957-640235b4ccc6",
   "metadata": {},
   "outputs": [
    {
     "data": {
      "text/html": [
       "<div>\n",
       "<style scoped>\n",
       "    .dataframe tbody tr th:only-of-type {\n",
       "        vertical-align: middle;\n",
       "    }\n",
       "\n",
       "    .dataframe tbody tr th {\n",
       "        vertical-align: top;\n",
       "    }\n",
       "\n",
       "    .dataframe thead th {\n",
       "        text-align: right;\n",
       "    }\n",
       "</style>\n",
       "<table border=\"1\" class=\"dataframe\">\n",
       "  <thead>\n",
       "    <tr style=\"text-align: right;\">\n",
       "      <th></th>\n",
       "      <th>month</th>\n",
       "      <th>month_txt</th>\n",
       "      <th>number_of_strikes</th>\n",
       "    </tr>\n",
       "  </thead>\n",
       "  <tbody>\n",
       "    <tr>\n",
       "      <th>0</th>\n",
       "      <td>12</td>\n",
       "      <td>Dec</td>\n",
       "      <td>209166</td>\n",
       "    </tr>\n",
       "  </tbody>\n",
       "</table>\n",
       "</div>"
      ],
      "text/plain": [
       "   month month_txt  number_of_strikes\n",
       "0     12       Dec             209166"
      ]
     },
     "execution_count": 43,
     "metadata": {},
     "output_type": "execute_result"
    }
   ],
   "source": [
    "# Convert `date` column to datetime\n",
    "df_2019['date']= pd.to_datetime(df_2019['date'])\n",
    "\n",
    "# Create 2 new columns\n",
    "df_2019['month'] = df_2019['date'].dt.month\n",
    "df_2019['month_txt'] = df_2019['date'].dt.month_name().str.slice(stop=3)\n",
    "df_2019_by_month = (\n",
    "    df_2019\n",
    "    .groupby(['month', 'month_txt'])[['number_of_strikes']]  # specify numeric column(s)\n",
    "    .sum()\n",
    "    .sort_values('month', ascending=True)\n",
    "    .reset_index()\n",
    ")\n",
    "\n",
    "df_2019_by_month"
   ]
  },
  {
   "cell_type": "code",
   "execution_count": 44,
   "id": "550f1a60-cd43-4e77-8072-2d8e9f3f1b0b",
   "metadata": {},
   "outputs": [],
   "source": [
    "df_1987 = pd.read_csv(r\"C:\\Users\\Lahari Reddy\\Desktop\\GoogleDA\\Exploratory_Data_Analysis\\eda_outliers_dataset3.csv\")"
   ]
  },
  {
   "cell_type": "code",
   "execution_count": 48,
   "id": "c9cc6c38-c4de-4c58-8902-6246eacc1ecc",
   "metadata": {},
   "outputs": [
    {
     "data": {
      "text/html": [
       "<div>\n",
       "<style scoped>\n",
       "    .dataframe tbody tr th:only-of-type {\n",
       "        vertical-align: middle;\n",
       "    }\n",
       "\n",
       "    .dataframe tbody tr th {\n",
       "        vertical-align: top;\n",
       "    }\n",
       "\n",
       "    .dataframe thead th {\n",
       "        text-align: right;\n",
       "    }\n",
       "</style>\n",
       "<table border=\"1\" class=\"dataframe\">\n",
       "  <thead>\n",
       "    <tr style=\"text-align: right;\">\n",
       "      <th></th>\n",
       "      <th>month</th>\n",
       "      <th>month_txt</th>\n",
       "      <th>number_of_strikes</th>\n",
       "    </tr>\n",
       "  </thead>\n",
       "  <tbody>\n",
       "    <tr>\n",
       "      <th>0</th>\n",
       "      <td>1</td>\n",
       "      <td>Jan</td>\n",
       "      <td>23044</td>\n",
       "    </tr>\n",
       "    <tr>\n",
       "      <th>1</th>\n",
       "      <td>2</td>\n",
       "      <td>Feb</td>\n",
       "      <td>61020</td>\n",
       "    </tr>\n",
       "    <tr>\n",
       "      <th>2</th>\n",
       "      <td>3</td>\n",
       "      <td>Mar</td>\n",
       "      <td>117877</td>\n",
       "    </tr>\n",
       "    <tr>\n",
       "      <th>3</th>\n",
       "      <td>4</td>\n",
       "      <td>Apr</td>\n",
       "      <td>157890</td>\n",
       "    </tr>\n",
       "    <tr>\n",
       "      <th>4</th>\n",
       "      <td>5</td>\n",
       "      <td>May</td>\n",
       "      <td>700910</td>\n",
       "    </tr>\n",
       "    <tr>\n",
       "      <th>5</th>\n",
       "      <td>6</td>\n",
       "      <td>Jun</td>\n",
       "      <td>1064166</td>\n",
       "    </tr>\n",
       "    <tr>\n",
       "      <th>6</th>\n",
       "      <td>7</td>\n",
       "      <td>Jul</td>\n",
       "      <td>2077619</td>\n",
       "    </tr>\n",
       "    <tr>\n",
       "      <th>7</th>\n",
       "      <td>8</td>\n",
       "      <td>Aug</td>\n",
       "      <td>2001899</td>\n",
       "    </tr>\n",
       "    <tr>\n",
       "      <th>8</th>\n",
       "      <td>9</td>\n",
       "      <td>Sep</td>\n",
       "      <td>869833</td>\n",
       "    </tr>\n",
       "    <tr>\n",
       "      <th>9</th>\n",
       "      <td>10</td>\n",
       "      <td>Oct</td>\n",
       "      <td>105627</td>\n",
       "    </tr>\n",
       "    <tr>\n",
       "      <th>10</th>\n",
       "      <td>11</td>\n",
       "      <td>Nov</td>\n",
       "      <td>155290</td>\n",
       "    </tr>\n",
       "    <tr>\n",
       "      <th>11</th>\n",
       "      <td>12</td>\n",
       "      <td>Dec</td>\n",
       "      <td>43661</td>\n",
       "    </tr>\n",
       "  </tbody>\n",
       "</table>\n",
       "</div>"
      ],
      "text/plain": [
       "    month month_txt  number_of_strikes\n",
       "0       1       Jan              23044\n",
       "1       2       Feb              61020\n",
       "2       3       Mar             117877\n",
       "3       4       Apr             157890\n",
       "4       5       May             700910\n",
       "5       6       Jun            1064166\n",
       "6       7       Jul            2077619\n",
       "7       8       Aug            2001899\n",
       "8       9       Sep             869833\n",
       "9      10       Oct             105627\n",
       "10     11       Nov             155290\n",
       "11     12       Dec              43661"
      ]
     },
     "execution_count": 48,
     "metadata": {},
     "output_type": "execute_result"
    }
   ],
   "source": [
    "# Convert `date` column to datetime\n",
    "df_1987['date'] = pd.to_datetime(df_1987['date'])\n",
    "\n",
    "# Create 2 new columns\n",
    "df_1987['month'] = df_1987['date'].dt.month\n",
    "df_1987['month_txt'] = df_1987['date'].dt.month_name().str.slice(stop=3)\n",
    "\n",
    "# Group by `month` and `month_txt`, sum it, and sort. Assign result to new df\n",
    "df_1987_by_month = df_1987.groupby(['month', 'month_txt'])[['number_of_strikes']].sum().sort_values('month', ascending=True).reset_index()\n",
    "df_1987_by_month"
   ]
  },
  {
   "cell_type": "code",
   "execution_count": 49,
   "id": "bd04b7ed-8439-4898-8e35-7ac45ffa76ba",
   "metadata": {},
   "outputs": [
    {
     "name": "stdout",
     "output_type": "stream",
     "text": [
      "Mean:28.2M\n",
      "Median:28.8M\n"
     ]
    }
   ],
   "source": [
    "# Create new df that removes outliers\n",
    "df_without_outliers = df[df['number_of_strikes'] >= lower_limit]\n",
    "\n",
    "# Recalculate mean and median values on data without outliers\n",
    "print(\"Mean:\" + readable_numbers(np.mean(df_without_outliers['number_of_strikes'])))\n",
    "print(\"Median:\" + readable_numbers(np.median(df_without_outliers['number_of_strikes'])))"
   ]
  },
  {
   "cell_type": "markdown",
   "id": "70f5325d-d3bf-46ad-8a6c-467ae0f1f238",
   "metadata": {},
   "source": [
    "## Conclusion"
   ]
  },
  {
   "cell_type": "markdown",
   "id": "3aac1b3f-5163-4b39-9b88-55e02be6e559",
   "metadata": {},
   "source": [
    "2019 appears to have data only for the month of December. The likelihood of there not being any lightning from January to November 2019 is ~0. This appears to be a case of missing data. We should probably exclude 2019 from the analysis (for most use cases)."
   ]
  },
  {
   "cell_type": "markdown",
   "id": "02a9f7bd-f4c8-466c-a0b3-7b58264da0de",
   "metadata": {},
   "source": [
    "1987 has data for every month of the year. Hence, this outlier should be treated differently than 2019, which is missing data."
   ]
  },
  {
   "cell_type": "code",
   "execution_count": null,
   "id": "2c5d6e97-16c9-45e8-b1e2-d05a62bb5461",
   "metadata": {},
   "outputs": [],
   "source": []
  }
 ],
 "metadata": {
  "kernelspec": {
   "display_name": "Python 3 (ipykernel)",
   "language": "python",
   "name": "python3"
  },
  "language_info": {
   "codemirror_mode": {
    "name": "ipython",
    "version": 3
   },
   "file_extension": ".py",
   "mimetype": "text/x-python",
   "name": "python",
   "nbconvert_exporter": "python",
   "pygments_lexer": "ipython3",
   "version": "3.12.7"
  }
 },
 "nbformat": 4,
 "nbformat_minor": 5
}
